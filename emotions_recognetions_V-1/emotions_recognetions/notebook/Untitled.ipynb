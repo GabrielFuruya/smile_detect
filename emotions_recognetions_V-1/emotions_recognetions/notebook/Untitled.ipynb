{
 "cells": [
  {
   "cell_type": "code",
   "execution_count": 1,
   "metadata": {},
   "outputs": [
    {
     "name": "stderr",
     "output_type": "stream",
     "text": [
      "Using TensorFlow backend.\n"
     ]
    }
   ],
   "source": [
    "import numpy as np\n",
    "from keras.preprocessing import image\n",
    "from keras.models import Sequential\n",
    "from keras.layers import Conv2D, MaxPooling2D, Flatten, Dense, Dropout\n",
    "from keras.layers.normalization import BatchNormalization\n",
    "from keras.callbacks import ModelCheckpoint, EarlyStopping, TensorBoard\n",
    "import os\n",
    "\n",
    "class Verification:\n",
    "    def __init__(self):\n",
    "        print('Start Create Model')\n",
    "        self.model = Sequential()\n",
    "        self.model.add(Conv2D(32, (3,3), input_shape = (64,64,1), activation='relu'))\n",
    "        self.model.add(BatchNormalization())\n",
    "        self.model.add(MaxPooling2D(pool_size=(2,2)))\n",
    "\n",
    "        self.model.add(Conv2D(32, (3,3), input_shape = (64,64,1), activation='relu'))\n",
    "        self.model.add(BatchNormalization())\n",
    "        self.model.add(MaxPooling2D(pool_size=(2,2)))\n",
    "        self.model.add(Dropout(0.2))\n",
    "\n",
    "        self.model.add(Flatten())\n",
    "\n",
    "        self.model.add(Dense(128, activation='relu'))\n",
    "        self.model.add(Dropout(0.2))\n",
    "\n",
    "        self.model.add(Dense(128, activation='relu'))\n",
    "        self.model.add(Dropout(0.2))\n",
    "\n",
    "        self.model.add(Dense(1, activation = 'sigmoid'))\n",
    "\n",
    "        print('Create Model')\n",
    "        self.model.load_weights('/home/gabriel/example-api/resources/modelo/Machine_learning/weights.hdf5')\n",
    "        print('Load Model')\n",
    "\n",
    "    def smile(self, img_path):\n",
    "        print('Load Image')\n",
    "        print(img_path)\n",
    "        img = image.load_img(img_path, target_size = (64,64) ,color_mode=\"grayscale\")\n",
    "        x = image.img_to_array(img)\n",
    "        x = np.expand_dims(x, axis=0)\n",
    "        print('Before Predict')\n",
    "        pred = self.model.predict(x)\n",
    "        print('Predict Model')\n",
    "        if pred[0][0] == 1:\n",
    "            result = \"SMILE\"\n",
    "        else:   \n",
    "            result = \"NO-SMILE\"\n",
    "        print(result)\n",
    "\n",
    "        return result\n",
    "                \n",
    "            \n",
    "\n",
    "    "
   ]
  },
  {
   "cell_type": "code",
   "execution_count": 2,
   "metadata": {},
   "outputs": [
    {
     "name": "stdout",
     "output_type": "stream",
     "text": [
      "Create Model\n",
      "Load Model\n"
     ]
    }
   ],
   "source": [
    "a = Verification()"
   ]
  },
  {
   "cell_type": "code",
   "execution_count": null,
   "metadata": {},
   "outputs": [],
   "source": []
  }
 ],
 "metadata": {
  "kernelspec": {
   "display_name": "Python 3",
   "language": "python",
   "name": "python3"
  },
  "language_info": {
   "codemirror_mode": {
    "name": "ipython",
    "version": 3
   },
   "file_extension": ".py",
   "mimetype": "text/x-python",
   "name": "python",
   "nbconvert_exporter": "python",
   "pygments_lexer": "ipython3",
   "version": "3.8.1"
  }
 },
 "nbformat": 4,
 "nbformat_minor": 4
}
